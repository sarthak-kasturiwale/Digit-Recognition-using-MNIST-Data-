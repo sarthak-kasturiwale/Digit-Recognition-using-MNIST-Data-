{
 "cells": [
  {
   "cell_type": "markdown",
   "metadata": {},
   "source": [
    "# Digit Recognizer using CNN"
   ]
  },
  {
   "cell_type": "markdown",
   "metadata": {},
   "source": [
    "# Introduction"
   ]
  },
  {
   "cell_type": "markdown",
   "metadata": {},
   "source": [
    "- MNIST (\"Modified National Institute of Standards and Technology\") is the de facto “hello world” dataset of computer vision. Since its release in 1999, this classic dataset of handwritten images has served as the basis for benchmarking classification algorithms.\n",
    "- In this Project, our goal is to correctly identify digits from a dataset of tens of thousands of handwritten images."
   ]
  },
  {
   "cell_type": "markdown",
   "metadata": {},
   "source": [
    "# Dataset Description"
   ]
  },
  {
   "cell_type": "markdown",
   "metadata": {},
   "source": [
    "- MNIST is a simple computer vision dataset. It consists of 28x28 pixel images of handwritten digits.\n",
    "- Every MNIST data point, every image, can be thought of as an array of numbers describing how dark each pixel is. Since each image has 28 by 28 pixels, we get a 28x28 array. \n",
    "- We can flatten each array into a 28∗28 = 784 dimensional vector. Each component of the vector is a value between zero and one describing the intensity of the pixel. Thus, we generally think of MNIST as being a collection of 784-dimensional vectors.  \n",
    "- Not all vectors in this 784-dimensional space are MNIST digits. Typical points in this space are very different! To get a sense of what a typical point looks like, we can randomly pick a few points and examine them. In a random point – a random 28x28 image – each pixel is randomly black, white or some shade of gray. The result is that random points look like noise."
   ]
  },
  {
   "cell_type": "markdown",
   "metadata": {},
   "source": [
    "# Context"
   ]
  },
  {
   "cell_type": "markdown",
   "metadata": {},
   "source": [
    "- Images like MNIST digits are very rare. While the MNIST data points are embedded in 784-dimensional space, they live in a very small subspace. \n",
    "- One popular theory among machine learning researchers is the manifold hypothesis: MNIST is a low dimensional manifold, sweeping and curving through its high-dimensional embedding space. \n",
    "- Another hypothesis, more associated with topological data analysis, is that data like MNIST consists of blobs with tentacle-like protrusions sticking out into the surrounding space.  But no one really knows, so lets explore!"
   ]
  },
  {
   "cell_type": "markdown",
   "metadata": {},
   "source": [
    "# 1. Importing Dependencies"
   ]
  },
  {
   "cell_type": "code",
   "execution_count": 9,
   "metadata": {},
   "outputs": [],
   "source": [
    "# Basic Libraries\n",
    "import numpy as np\n",
    "import pandas as pd\n",
    "\n",
    "# Plotting Libraries\n",
    "import matplotlib.pyplot as plt\n",
    "import seaborn as sns\n",
    "\n",
    "# Tensorflow\n",
    "import tensorflow as tf\n",
    "from tensorflow.keras.preprocessing.image import ImageDataGenerator\n",
    "from tensorflow.keras.models import Model, Sequential\n",
    "from tensorflow.keras.layers import Input, Add, Activation, Dropout, Flatten, Dense\n",
    "from tensorflow.keras.layers import Convolution2D, MaxPool2D, AveragePooling2D, ZeroPadding2D, Conv2D\n",
    "from tensorflow.keras.layers import BatchNormalization\n",
    "from tensorflow.keras.regularizers import l2\n",
    "from tensorflow.keras.callbacks import LearningRateScheduler\n",
    "from tensorflow.keras import backend as k\n",
    "\n",
    "from tensorflow.keras.datasets import mnist\n",
    "\n",
    "from keras.utils import np_utils\n",
    "\n",
    "# Other Files\n",
    "import pickle\n",
    "from os import listdir\n",
    "from os.path import isfile, join\n",
    "import os\n",
    "import time"
   ]
  },
  {
   "cell_type": "code",
   "execution_count": 10,
   "metadata": {},
   "outputs": [],
   "source": [
    "# this function is used to update the plots for each epoch and error\n",
    "def plt_dynamic(x, vy, ty, ax, colors = ['b']):\n",
    "    ax.plot(x, vy, 'b', label = \"Validation Loss\")\n",
    "    ax.plot(x, ty, 'r', label = \"Train Loss\")\n",
    "    plt.legend()\n",
    "    plt.grid()\n",
    "    fig.canvas.draw()"
   ]
  },
  {
   "cell_type": "markdown",
   "metadata": {},
   "source": [
    "# 2. Bringing the data to a format acceptable by the CNN"
   ]
  },
  {
   "cell_type": "code",
   "execution_count": 11,
   "metadata": {},
   "outputs": [],
   "source": [
    "# input image dimensions\n",
    "img_rows, img_cols = 28, 28\n",
    "\n",
    "# the data, split between train and test sets\n",
    "(x_train, y_train), (x_test, y_test) = mnist.load_data()\n",
    "\n",
    "if k.image_data_format() == 'channels_first':\n",
    "    x_train = x_train.reshape(x_train.shape[0], 1, img_rows, img_cols)\n",
    "    x_test = x_test.reshape(x_test.shape[0], 1, img_rows, img_cols)\n",
    "    input_shape = (1, img_rows, img_cols)\n",
    "    \n",
    "else:\n",
    "    x_train = x_train.reshape(x_train.shape[0], img_rows, img_cols, 1)\n",
    "    x_test = x_test.reshape(x_test.shape[0], img_rows, img_cols, 1)\n",
    "    input_shape = (img_rows, img_cols, 1)"
   ]
  },
  {
   "cell_type": "code",
   "execution_count": 12,
   "metadata": {},
   "outputs": [],
   "source": [
    "# Dumping the data generated into seperate files\n",
    "with open('x_train.pickle', 'wb') as handle:\n",
    "    pickle.dump(x_train, handle, protocol = pickle.HIGHEST_PROTOCOL)\n",
    "with open('y_train.pickle', 'wb') as handle:\n",
    "    pickle.dump(y_train, handle, protocol = pickle.HIGHEST_PROTOCOL)\n",
    "with open('x_test.pickle', 'wb') as handle:\n",
    "    pickle.dump(x_test, handle, protocol = pickle.HIGHEST_PROTOCOL)\n",
    "with open('y_test.pickle', 'wb') as handle:\n",
    "    pickle.dump(y_test, handle, protocol = pickle.HIGHEST_PROTOCOL)"
   ]
  },
  {
   "cell_type": "code",
   "execution_count": 13,
   "metadata": {},
   "outputs": [],
   "source": [
    "# Training and validation files\n",
    "\n",
    "files = ['x_train.pickle', 'y_train.pickle',\n",
    "         'x_test.pickle', 'y_test.pickle']\n",
    "\n",
    "# Load training samples\n",
    "with open(files[0], 'rb') as img_file:\n",
    "    x_train = pickle.load(img_file, encoding='bytes')\n",
    "    \n",
    "# Load training labels\n",
    "with open(files[1], 'rb') as lb_file:\n",
    "    y_train = pickle.load(lb_file, encoding='bytes')\n",
    "    \n",
    "# Load validation samples\n",
    "with open(files[2], 'rb') as img_file_v:\n",
    "    x_test = pickle.load(img_file_v, encoding='bytes')\n",
    "    \n",
    "# Load validation labels\n",
    "with open(files[3], 'rb') as lb_file_v:\n",
    "    y_test = pickle.load(lb_file_v, encoding='bytes')"
   ]
  },
  {
   "cell_type": "markdown",
   "metadata": {},
   "source": [
    "# 3. Data Preprocessing"
   ]
  },
  {
   "cell_type": "code",
   "execution_count": 15,
   "metadata": {},
   "outputs": [],
   "source": [
    "num_classes = 10\n",
    "\n",
    "# Transofrm the Features to a float32 type\n",
    "x_train = x_train.astype('float32')\n",
    "x_test = x_test.astype('float32')\n",
    "\n",
    "# Normalizing the input features\n",
    "x_train /= 255\n",
    "x_test /= 255\n",
    "\n",
    "# convert class vectors to binary class matrices\n",
    "y_train = np_utils.to_categorical(y_train, num_classes)\n",
    "y_test = np_utils.to_categorical(y_test, num_classes)"
   ]
  },
  {
   "cell_type": "code",
   "execution_count": 45,
   "metadata": {},
   "outputs": [
    {
     "name": "stdout",
     "output_type": "stream",
     "text": [
      "Shape of Training Data   : (60000, 28, 28, 1)\n",
      "Shape of Test Data       : (10000, 28, 28, 1)\n",
      "Shape of Training Lables : (60000, 10)\n",
      "Shape of Test Lables     : (10000, 10)\n"
     ]
    }
   ],
   "source": [
    "print('Shape of Training Data   :', x_train.shape)\n",
    "print('Shape of Test Data       :', x_test.shape)\n",
    "print('Shape of Training Lables :', y_train.shape)\n",
    "print('Shape of Test Lables     :', y_test.shape)"
   ]
  },
  {
   "cell_type": "markdown",
   "metadata": {},
   "source": [
    "# 4. Building the model"
   ]
  },
  {
   "cell_type": "markdown",
   "metadata": {},
   "source": [
    "## 1. Base Model (2 Layer Architecture)"
   ]
  },
  {
   "cell_type": "markdown",
   "metadata": {},
   "source": [
    "1. Convolutional input layer, 32 feature maps with a size of 3×3, a rectifier activation function as relu\n",
    "2. Convolutional input layer, 64 feature maps with a size of 3×3, a rectifier activation function as relu\n",
    "3. Max Pool layer with size 2×2\n",
    "4. Dropout\n",
    "5. Flatten layer\n",
    "6. Fully connected layer with 256 units and a rectifier activation function as relu\n",
    "7. Fully connected output layer with 10 units and a softmax activation function\n",
    "8. Compiling the Model with adadelta optimizer and metrices as accuracy"
   ]
  },
  {
   "cell_type": "code",
   "execution_count": 16,
   "metadata": {},
   "outputs": [],
   "source": [
    "# Initialising the Model_1\n",
    "Model_1 = Sequential()\n",
    "\n",
    "# Convolution\n",
    "Model_1.add(Conv2D(filters = 32, kernel_size = (3,3), input_shape = input_shape, activation = 'relu'))\n",
    "# Convolution\n",
    "Model_1.add(Conv2D(filters = 64, kernel_size = (3,3), activation = 'relu'))\n",
    "# Max Pooling\n",
    "Model_1.add(MaxPool2D(pool_size = (2,2)))\n",
    "# Dropout\n",
    "Model_1.add(Dropout(0.25))\n",
    "\n",
    "# Flattening\n",
    "Model_1.add(Flatten())\n",
    "\n",
    "# Full Connection\n",
    "Model_1.add(Dense(256, activation = 'relu'))\n",
    "# Dropout\n",
    "Model_1.add(Dropout(0.25))\n",
    "\n",
    "# Output Layer\n",
    "Model_1.add(Dense(num_classes, activation = 'softmax'))\n",
    "\n",
    "# Compiling Model_1\n",
    "Model_1.compile(loss = 'categorical_crossentropy', optimizer = 'adadelta', metrics = ['accuracy'])"
   ]
  },
  {
   "cell_type": "code",
   "execution_count": 17,
   "metadata": {},
   "outputs": [
    {
     "name": "stdout",
     "output_type": "stream",
     "text": [
      "Model: \"sequential\"\n",
      "_________________________________________________________________\n",
      "Layer (type)                 Output Shape              Param #   \n",
      "=================================================================\n",
      "conv2d (Conv2D)              (None, 26, 26, 32)        320       \n",
      "_________________________________________________________________\n",
      "conv2d_1 (Conv2D)            (None, 24, 24, 64)        18496     \n",
      "_________________________________________________________________\n",
      "max_pooling2d (MaxPooling2D) (None, 12, 12, 64)        0         \n",
      "_________________________________________________________________\n",
      "dropout (Dropout)            (None, 12, 12, 64)        0         \n",
      "_________________________________________________________________\n",
      "flatten (Flatten)            (None, 9216)              0         \n",
      "_________________________________________________________________\n",
      "dense (Dense)                (None, 256)               2359552   \n",
      "_________________________________________________________________\n",
      "dropout_1 (Dropout)          (None, 256)               0         \n",
      "_________________________________________________________________\n",
      "dense_1 (Dense)              (None, 10)                2570      \n",
      "=================================================================\n",
      "Total params: 2,380,938\n",
      "Trainable params: 2,380,938\n",
      "Non-trainable params: 0\n",
      "_________________________________________________________________\n"
     ]
    }
   ],
   "source": [
    "Model_1.summary()"
   ]
  },
  {
   "cell_type": "code",
   "execution_count": 18,
   "metadata": {},
   "outputs": [
    {
     "name": "stdout",
     "output_type": "stream",
     "text": [
      "Epoch 1/15\n",
      "235/235 [==============================] - 99s 421ms/step - loss: 2.3025 - accuracy: 0.1614 - val_loss: 2.3024 - val_accuracy: 0.1207\n",
      "Epoch 2/15\n",
      "235/235 [==============================] - 103s 438ms/step - loss: 2.3024 - accuracy: 0.1332 - val_loss: 2.3024 - val_accuracy: 0.1135\n",
      "Epoch 3/15\n",
      "235/235 [==============================] - 104s 443ms/step - loss: 2.3024 - accuracy: 0.1194 - val_loss: 2.3023 - val_accuracy: 0.1135\n",
      "Epoch 4/15\n",
      "235/235 [==============================] - 105s 445ms/step - loss: 2.3023 - accuracy: 0.1134 - val_loss: 2.3023 - val_accuracy: 0.1135\n",
      "Epoch 5/15\n",
      "235/235 [==============================] - 104s 441ms/step - loss: 2.3023 - accuracy: 0.1129 - val_loss: 2.3023 - val_accuracy: 0.1135\n",
      "Epoch 6/15\n",
      "235/235 [==============================] - 102s 433ms/step - loss: 2.3023 - accuracy: 0.1125 - val_loss: 2.3023 - val_accuracy: 0.1135\n",
      "Epoch 7/15\n",
      "235/235 [==============================] - 106s 453ms/step - loss: 2.3023 - accuracy: 0.1126 - val_loss: 2.3023 - val_accuracy: 0.1135\n",
      "Epoch 8/15\n",
      "235/235 [==============================] - 105s 446ms/step - loss: 2.3023 - accuracy: 0.1125 - val_loss: 2.3022 - val_accuracy: 0.1135\n",
      "Epoch 9/15\n",
      "235/235 [==============================] - 104s 444ms/step - loss: 2.3023 - accuracy: 0.1124 - val_loss: 2.3022 - val_accuracy: 0.1135\n",
      "Epoch 10/15\n",
      "235/235 [==============================] - 104s 442ms/step - loss: 2.3022 - accuracy: 0.1124 - val_loss: 2.3022 - val_accuracy: 0.1135\n",
      "Epoch 11/15\n",
      "235/235 [==============================] - 106s 451ms/step - loss: 2.3022 - accuracy: 0.1124 - val_loss: 2.3022 - val_accuracy: 0.1135\n",
      "Epoch 12/15\n",
      "235/235 [==============================] - 107s 454ms/step - loss: 2.3022 - accuracy: 0.1124 - val_loss: 2.3022 - val_accuracy: 0.1135\n",
      "Epoch 13/15\n",
      "235/235 [==============================] - 105s 445ms/step - loss: 2.3022 - accuracy: 0.1124 - val_loss: 2.3022 - val_accuracy: 0.1135\n",
      "Epoch 14/15\n",
      "235/235 [==============================] - 106s 449ms/step - loss: 2.3022 - accuracy: 0.1124 - val_loss: 2.3022 - val_accuracy: 0.1135\n",
      "Epoch 15/15\n",
      "235/235 [==============================] - 105s 447ms/step - loss: 2.3022 - accuracy: 0.1124 - val_loss: 2.3021 - val_accuracy: 0.1135\n"
     ]
    }
   ],
   "source": [
    "Model_1_result = Model_1.fit(x_train, y_train, epochs = 15, validation_data = (x_test, y_test), workers = -1, \n",
    "                             batch_size = 256)"
   ]
  },
  {
   "cell_type": "code",
   "execution_count": 19,
   "metadata": {},
   "outputs": [
    {
     "name": "stdout",
     "output_type": "stream",
     "text": [
      "313/313 [==============================] - 5s 16ms/step - loss: 2.3021 - accuracy: 0.1135\n",
      "Test Loss is : 2.3021419048309326 and the Test Accuracy is: 0.11349999904632568\n"
     ]
    }
   ],
   "source": [
    "Model_1_evaluation = Model_1.evaluate(x_test, y_test)\n",
    "print('Test Loss is : {} and the Test Accuracy is: {}'.format(Model_1_evaluation[0], Model_1_evaluation[1]))"
   ]
  },
  {
   "cell_type": "code",
   "execution_count": 20,
   "metadata": {},
   "outputs": [
    {
     "data": {
      "image/png": "[encoded data removed]",
      "text/plain": [
       "<Figure size 432x288 with 1 Axes>"
      ]
     },
     "metadata": {
      "needs_background": "light"
     },
     "output_type": "display_data"
    }
   ],
   "source": [
    "# Plotting Train & Validation Loss\n",
    "fig,ax = plt.subplots(1,1)\n",
    "ax.set_xlabel('epoch') \n",
    "ax.set_ylabel('Categorical Crossentropy Loss')\n",
    "\n",
    "# list of epoch numbers\n",
    "x = list(range(1, 16))\n",
    "vy = Model_1_result.history['val_loss']\n",
    "ty = Model_1_result.history['loss']\n",
    "\n",
    "# Calling Function\n",
    "plt_dynamic(x, vy, ty, ax)"
   ]
  },
  {
   "cell_type": "markdown",
   "metadata": {},
   "source": [
    "## Model 1 : Conclusions"
   ]
  },
  {
   "cell_type": "markdown",
   "metadata": {},
   "source": [
    "1. Using our base model we are able to get of only 11.34% training accuracy and 11.35% test accuracy, which is very bad. \n",
    "\n",
    "2. So we have options like we should increase the Hidden Layers, add Drop outs, add Batch Normalizations\n",
    "\n",
    "3. So lets regularize the model. In deep learning drop out is very good form of regularization. Dropout is a regularization method that approximates training a large number of neural networks with different architectures in parallel.\n",
    "\n",
    "4. Drop out literally means we gonna drop some of the neural units randomly from our network, which forces the next layer to learn the patterns again. In this way our model will become more robust and generalizes well.\n",
    "\n",
    "5. Lets try to add drop out after each CNN layer + MaxPool Layer."
   ]
  },
  {
   "cell_type": "markdown",
   "metadata": {},
   "source": [
    "## 2. Model 2 with Drop outs (3 LAYER ARCHITECTURE)"
   ]
  },
  {
   "cell_type": "markdown",
   "metadata": {},
   "source": [
    "1. Convolutional input layer, 32 feature maps with a size of 3×3, a rectifier activation function as relu\n",
    "2. Convolutional input layer, 64 feature maps with a size of 3×3, a rectifier activation function as relu\n",
    "3. Max Pool layer with size 2×2\n",
    "4. Dropout set to 25%\n",
    "5. Convolutional input layer, 128 feature maps with a size of 3×3, a rectifier activation function as relu\n",
    "6. Max Pool layer with size 2×2\n",
    "7. Dropout set to 50%\n",
    "8. Flatten layer\n",
    "9. Fully connected layer with 256 units and a rectifier activation function as relu\n",
    "10. Dropout set to 50%\n",
    "11. Fully connected output layer with 10 units and a softmax activation function\n",
    "12. Compiling the Model with adam optimizer and metrices as accuracy"
   ]
  },
  {
   "cell_type": "code",
   "execution_count": 24,
   "metadata": {},
   "outputs": [],
   "source": [
    "# Initialising the Model_2\n",
    "Model_2 = Sequential()\n",
    "\n",
    "# Convolution\n",
    "Model_2.add(Conv2D(filters = 32, kernel_size = (3,3), input_shape = input_shape, activation = 'relu'))\n",
    "# Convolution\n",
    "Model_2.add(Conv2D(filters = 64, kernel_size = (3,3), activation = 'relu'))\n",
    "# Max Pooling\n",
    "Model_2.add(MaxPool2D(pool_size = (2,2)))\n",
    "# Adding Dropouts\n",
    "Model_2.add(Dropout(0.25))\n",
    "\n",
    "# Adding 2nd Convolutional Layer\n",
    "Model_2.add(Conv2D(filters = 128, kernel_size = (3,3), activation = 'relu'))\n",
    "# Max Pooling\n",
    "Model_2.add(MaxPool2D(pool_size = (2,2)))\n",
    "# Adding Dropouts\n",
    "Model_2.add(Dropout(0.5))\n",
    "\n",
    "# Flattening\n",
    "Model_2.add(Flatten())\n",
    "\n",
    "# Full Connection\n",
    "Model_2.add(Dense(256, activation = 'relu'))\n",
    "# Adding Dropouts\n",
    "Model_2.add(Dropout(0.50))\n",
    "\n",
    "# Output Layer\n",
    "Model_2.add(Dense(num_classes, activation = 'softmax'))\n",
    "\n",
    "# Compiling Model_1\n",
    "Model_2.compile(loss = 'categorical_crossentropy', optimizer = 'adam', metrics = ['accuracy'])"
   ]
  },
  {
   "cell_type": "code",
   "execution_count": 25,
   "metadata": {},
   "outputs": [
    {
     "name": "stdout",
     "output_type": "stream",
     "text": [
      "Model: \"sequential_2\"\n",
      "_________________________________________________________________\n",
      "Layer (type)                 Output Shape              Param #   \n",
      "=================================================================\n",
      "conv2d_5 (Conv2D)            (None, 26, 26, 32)        320       \n",
      "_________________________________________________________________\n",
      "conv2d_6 (Conv2D)            (None, 24, 24, 64)        18496     \n",
      "_________________________________________________________________\n",
      "max_pooling2d_3 (MaxPooling2 (None, 12, 12, 64)        0         \n",
      "_________________________________________________________________\n",
      "dropout_5 (Dropout)          (None, 12, 12, 64)        0         \n",
      "_________________________________________________________________\n",
      "conv2d_7 (Conv2D)            (None, 10, 10, 128)       73856     \n",
      "_________________________________________________________________\n",
      "max_pooling2d_4 (MaxPooling2 (None, 5, 5, 128)         0         \n",
      "_________________________________________________________________\n",
      "dropout_6 (Dropout)          (None, 5, 5, 128)         0         \n",
      "_________________________________________________________________\n",
      "flatten_2 (Flatten)          (None, 3200)              0         \n",
      "_________________________________________________________________\n",
      "dense_4 (Dense)              (None, 256)               819456    \n",
      "_________________________________________________________________\n",
      "dropout_7 (Dropout)          (None, 256)               0         \n",
      "_________________________________________________________________\n",
      "dense_5 (Dense)              (None, 10)                2570      \n",
      "=================================================================\n",
      "Total params: 914,698\n",
      "Trainable params: 914,698\n",
      "Non-trainable params: 0\n",
      "_________________________________________________________________\n"
     ]
    }
   ],
   "source": [
    "Model_2.summary()"
   ]
  },
  {
   "cell_type": "code",
   "execution_count": 26,
   "metadata": {},
   "outputs": [
    {
     "name": "stdout",
     "output_type": "stream",
     "text": [
      "Epoch 1/12\n",
      "235/235 [==============================] - 135s 575ms/step - loss: 1.1053 - accuracy: 0.6180 - val_loss: 0.2364 - val_accuracy: 0.9307\n",
      "Epoch 2/12\n",
      "235/235 [==============================] - 134s 572ms/step - loss: 0.2674 - accuracy: 0.9164 - val_loss: 0.1228 - val_accuracy: 0.9608\n",
      "Epoch 3/12\n",
      "235/235 [==============================] - 134s 571ms/step - loss: 0.1910 - accuracy: 0.9420 - val_loss: 0.0905 - val_accuracy: 0.9700\n",
      "Epoch 4/12\n",
      "235/235 [==============================] - 135s 573ms/step - loss: 0.1623 - accuracy: 0.9503 - val_loss: 0.0803 - val_accuracy: 0.9725\n",
      "Epoch 5/12\n",
      "235/235 [==============================] - 139s 592ms/step - loss: 0.1443 - accuracy: 0.9563 - val_loss: 0.0721 - val_accuracy: 0.9754\n",
      "Epoch 6/12\n",
      "235/235 [==============================] - 131s 557ms/step - loss: 0.1297 - accuracy: 0.9601 - val_loss: 0.0653 - val_accuracy: 0.9791\n",
      "Epoch 7/12\n",
      "235/235 [==============================] - 133s 566ms/step - loss: 0.1191 - accuracy: 0.9643 - val_loss: 0.0582 - val_accuracy: 0.9813\n",
      "Epoch 8/12\n",
      "235/235 [==============================] - 134s 572ms/step - loss: 0.1132 - accuracy: 0.9648 - val_loss: 0.0532 - val_accuracy: 0.9821\n",
      "Epoch 9/12\n",
      "235/235 [==============================] - 137s 581ms/step - loss: 0.1028 - accuracy: 0.9679 - val_loss: 0.0534 - val_accuracy: 0.9819\n",
      "Epoch 10/12\n",
      "235/235 [==============================] - 133s 566ms/step - loss: 0.0988 - accuracy: 0.9698 - val_loss: 0.0466 - val_accuracy: 0.9849\n",
      "Epoch 11/12\n",
      "235/235 [==============================] - 143s 607ms/step - loss: 0.0943 - accuracy: 0.9709 - val_loss: 0.0480 - val_accuracy: 0.9845\n",
      "Epoch 12/12\n",
      "235/235 [==============================] - 133s 567ms/step - loss: 0.0877 - accuracy: 0.9736 - val_loss: 0.0425 - val_accuracy: 0.9859\n"
     ]
    }
   ],
   "source": [
    "Model_2_result = Model_2.fit(x_train, y_train, epochs = 12, validation_data = (x_test, y_test), batch_size = 256, \n",
    "                             workers = -1)"
   ]
  },
  {
   "cell_type": "code",
   "execution_count": 27,
   "metadata": {},
   "outputs": [
    {
     "name": "stdout",
     "output_type": "stream",
     "text": [
      "313/313 [==============================] - 5s 18ms/step - loss: 0.0425 - accuracy: 0.9859\n",
      "Test Loss is : 0.04252588376402855 and the Test Accuracy is: 0.9858999848365784\n"
     ]
    }
   ],
   "source": [
    "Model_2_evaluation = Model_2.evaluate(x_test, y_test)\n",
    "print('Test Loss is : {} and the Test Accuracy is: {}'.format(Model_2_evaluation[0], Model_2_evaluation[1]))"
   ]
  },
  {
   "cell_type": "code",
   "execution_count": 30,
   "metadata": {},
   "outputs": [
    {
     "data": {
      "image/png": "[encoded data removed]",
      "text/plain": [
       "<Figure size 432x288 with 1 Axes>"
      ]
     },
     "metadata": {
      "needs_background": "light"
     },
     "output_type": "display_data"
    }
   ],
   "source": [
    "# Plotting Train & Validation Loss\n",
    "fig,ax = plt.subplots(1,1)\n",
    "ax.set_xlabel('epoch') \n",
    "ax.set_ylabel('Categorical Crossentropy Loss')\n",
    "\n",
    "# list of epoch numbers\n",
    "x = list(range(1, 13))\n",
    "vy = Model_2_result.history['val_loss']\n",
    "ty = Model_2_result.history['loss']\n",
    "\n",
    "# Calling Function\n",
    "plt_dynamic(x, vy, ty, ax)"
   ]
  },
  {
   "cell_type": "markdown",
   "metadata": {},
   "source": [
    "## Model 2: Conclusions "
   ]
  },
  {
   "cell_type": "markdown",
   "metadata": {},
   "source": [
    "1. Using our base model we are able to get of only 97.36% training accuracy and 98.58% test accuracy, which is really good than the previous model. \n",
    "\n",
    "2. Lets try to improve our model by adding the Hidden Layers, add Drop outs, add Batch Normalizations"
   ]
  },
  {
   "cell_type": "markdown",
   "metadata": {},
   "source": [
    "## 3. Model 3 with Drop outs, More Layers, Batch Normalization & More Filters (5 Layer Architecture)"
   ]
  },
  {
   "cell_type": "markdown",
   "metadata": {},
   "source": [
    "1. Convolutional input layer, 32 feature maps with a size of 3×3, a rectifier activation function as relu\n",
    "2. Convolutional input layer, 32 feature maps with a size of 3×3, a rectifier activation function as relu\n",
    "3. Max Pool layer with size 2×2\n",
    "4. Batch Normalization\n",
    "5. Dropout set to 40%\n",
    "6. Convolutional input layer, 64 feature maps with a size of 3×3, a rectifier activation function as relu\n",
    "7. Convolutional input layer, 64 feature maps with a size of 3×3, a rectifier activation function as relu\n",
    "8. Max Pool layer with size 2×2\n",
    "9. Batch Normalization\n",
    "10. Dropout set to 40%\n",
    "11. Convolutional input layer, 128 feature maps with a size of 3×3, a rectifier activation function as relu\n",
    "12. Batch Normalization\n",
    "13. Dropout set to 50%\n",
    "14. Flatten layer\n",
    "15. Fully connected layer with 256 units and a rectifier activation function as relu\n",
    "    Dropout set to 50%\n",
    "16. Fully connected layer with 128 units and a rectifier activation function as relu\n",
    "17. Dropout set to 40%\n",
    "18. Fully connected output layer with 10 units and a softmax activation function\n",
    "19. Compiling the Model with adam optimizer and metrices as accuracy"
   ]
  },
  {
   "cell_type": "code",
   "execution_count": 33,
   "metadata": {},
   "outputs": [],
   "source": [
    "# Initialising the Model_3\n",
    "Model_3 = Sequential()\n",
    "\n",
    "# Convolution\n",
    "Model_3.add(Conv2D(filters = 32, kernel_size = (3,3), input_shape = input_shape, activation = 'relu'))\n",
    "# Convolution\n",
    "Model_3.add(Conv2D(filters = 32, kernel_size = (3,3), activation = 'relu'))\n",
    "# Max Pooling\n",
    "Model_3.add(MaxPool2D(pool_size = (2,2)))\n",
    "# Batch Normalization\n",
    "Model_3.add(BatchNormalization())\n",
    "# Adding Dropouts\n",
    "Model_3.add(Dropout(0.40))\n",
    "\n",
    "# Convolutional Layer\n",
    "Model_3.add(Conv2D(filters = 64, kernel_size = (3,3), activation = 'relu'))\n",
    "# Convolutional Layer\n",
    "Model_3.add(Conv2D(filters = 64, kernel_size = (3,3), activation = 'relu'))\n",
    "# Max Pooling\n",
    "Model_3.add(MaxPool2D(pool_size = (2,2)))\n",
    "# Batch Normalization\n",
    "Model_3.add(BatchNormalization())\n",
    "# Adding Dropouts\n",
    "Model_3.add(Dropout(0.40))\n",
    "\n",
    "# Convolution\n",
    "Model_3.add(Conv2D(128, kernel_size=3, activation = 'relu'))\n",
    "# Batch Normalization\n",
    "Model_3.add(BatchNormalization())\n",
    "# Adding Dropouts\n",
    "Model_3.add(Dropout(0.50))\n",
    "\n",
    "# Flattening\n",
    "Model_3.add(Flatten())\n",
    "\n",
    "# Full Connection\n",
    "Model_3.add(Dense(256, activation = 'relu'))\n",
    "# Adding Dropouts\n",
    "Model_3.add(Dropout(0.50))\n",
    "# Full Connection\n",
    "Model_3.add(Dense(128, activation = \"relu\"))\n",
    "# Adding Dropouts\n",
    "Model_3.add(Dropout(0.4))\n",
    "\n",
    "# Output Layer\n",
    "Model_3.add(Dense(num_classes, activation = 'softmax'))\n",
    "\n",
    "# Compiling Model_3\n",
    "Model_3.compile(loss = 'categorical_crossentropy', optimizer = 'adam', metrics = ['accuracy'])"
   ]
  },
  {
   "cell_type": "code",
   "execution_count": 34,
   "metadata": {},
   "outputs": [
    {
     "name": "stdout",
     "output_type": "stream",
     "text": [
      "Model: \"sequential_5\"\n",
      "_________________________________________________________________\n",
      "Layer (type)                 Output Shape              Param #   \n",
      "=================================================================\n",
      "conv2d_17 (Conv2D)           (None, 26, 26, 32)        320       \n",
      "_________________________________________________________________\n",
      "conv2d_18 (Conv2D)           (None, 24, 24, 32)        9248      \n",
      "_________________________________________________________________\n",
      "max_pooling2d_9 (MaxPooling2 (None, 12, 12, 32)        0         \n",
      "_________________________________________________________________\n",
      "batch_normalization_5 (Batch (None, 12, 12, 32)        128       \n",
      "_________________________________________________________________\n",
      "dropout_14 (Dropout)         (None, 12, 12, 32)        0         \n",
      "_________________________________________________________________\n",
      "conv2d_19 (Conv2D)           (None, 10, 10, 64)        18496     \n",
      "_________________________________________________________________\n",
      "conv2d_20 (Conv2D)           (None, 8, 8, 64)          36928     \n",
      "_________________________________________________________________\n",
      "max_pooling2d_10 (MaxPooling (None, 4, 4, 64)          0         \n",
      "_________________________________________________________________\n",
      "batch_normalization_6 (Batch (None, 4, 4, 64)          256       \n",
      "_________________________________________________________________\n",
      "dropout_15 (Dropout)         (None, 4, 4, 64)          0         \n",
      "_________________________________________________________________\n",
      "conv2d_21 (Conv2D)           (None, 2, 2, 128)         73856     \n",
      "_________________________________________________________________\n",
      "batch_normalization_7 (Batch (None, 2, 2, 128)         512       \n",
      "_________________________________________________________________\n",
      "dropout_16 (Dropout)         (None, 2, 2, 128)         0         \n",
      "_________________________________________________________________\n",
      "flatten_4 (Flatten)          (None, 512)               0         \n",
      "_________________________________________________________________\n",
      "dense_7 (Dense)              (None, 256)               131328    \n",
      "_________________________________________________________________\n",
      "dropout_17 (Dropout)         (None, 256)               0         \n",
      "_________________________________________________________________\n",
      "dense_8 (Dense)              (None, 128)               32896     \n",
      "_________________________________________________________________\n",
      "dropout_18 (Dropout)         (None, 128)               0         \n",
      "_________________________________________________________________\n",
      "dense_9 (Dense)              (None, 10)                1290      \n",
      "=================================================================\n",
      "Total params: 305,258\n",
      "Trainable params: 304,810\n",
      "Non-trainable params: 448\n",
      "_________________________________________________________________\n"
     ]
    }
   ],
   "source": [
    "Model_3.summary()"
   ]
  },
  {
   "cell_type": "code",
   "execution_count": 35,
   "metadata": {},
   "outputs": [
    {
     "name": "stdout",
     "output_type": "stream",
     "text": [
      "Epoch 1/12\n",
      "235/235 [==============================] - 107s 456ms/step - loss: 0.8888 - accuracy: 0.7131 - val_loss: 2.3256 - val_accuracy: 0.0892\n",
      "Epoch 2/12\n",
      "235/235 [==============================] - 105s 446ms/step - loss: 0.2480 - accuracy: 0.9269 - val_loss: 2.0792 - val_accuracy: 0.2757\n",
      "Epoch 3/12\n",
      "235/235 [==============================] - 103s 438ms/step - loss: 0.1670 - accuracy: 0.9513 - val_loss: 0.6778 - val_accuracy: 0.7839\n",
      "Epoch 4/12\n",
      "235/235 [==============================] - 103s 438ms/step - loss: 0.1339 - accuracy: 0.9620 - val_loss: 0.8939 - val_accuracy: 0.7455\n",
      "Epoch 5/12\n",
      "235/235 [==============================] - 105s 445ms/step - loss: 0.1211 - accuracy: 0.9657 - val_loss: 64.7175 - val_accuracy: 0.0974\n",
      "Epoch 6/12\n",
      "235/235 [==============================] - 101s 431ms/step - loss: 0.1071 - accuracy: 0.9696 - val_loss: 0.3125 - val_accuracy: 0.8939\n",
      "Epoch 7/12\n",
      "235/235 [==============================] - 100s 425ms/step - loss: 0.0935 - accuracy: 0.9728 - val_loss: 0.6180 - val_accuracy: 0.8319\n",
      "Epoch 8/12\n",
      "235/235 [==============================] - 103s 439ms/step - loss: 0.0869 - accuracy: 0.9754 - val_loss: 0.0995 - val_accuracy: 0.9715\n",
      "Epoch 9/12\n",
      "235/235 [==============================] - 101s 430ms/step - loss: 0.0841 - accuracy: 0.9759 - val_loss: 0.0777 - val_accuracy: 0.9773\n",
      "Epoch 10/12\n",
      "235/235 [==============================] - 100s 425ms/step - loss: 0.0865 - accuracy: 0.9765 - val_loss: 3.2808 - val_accuracy: 0.2416\n",
      "Epoch 11/12\n",
      "235/235 [==============================] - 100s 427ms/step - loss: 0.0747 - accuracy: 0.9783 - val_loss: 1.4952 - val_accuracy: 0.6401\n",
      "Epoch 12/12\n",
      "235/235 [==============================] - 100s 424ms/step - loss: 0.0717 - accuracy: 0.9799 - val_loss: 6.1978 - val_accuracy: 0.3836\n"
     ]
    }
   ],
   "source": [
    "Model_3_result = Model_3.fit(x_train, y_train, epochs = 12, validation_data = (x_test, y_test), batch_size = 256,\n",
    "                             workers = -1)"
   ]
  },
  {
   "cell_type": "code",
   "execution_count": 36,
   "metadata": {},
   "outputs": [
    {
     "name": "stdout",
     "output_type": "stream",
     "text": [
      "313/313 [==============================] - 4s 12ms/step - loss: 6.1978 - accuracy: 0.3836\n",
      "Test Loss is : 6.197793960571289 and the Test Accuracy is: 0.38359999656677246\n"
     ]
    }
   ],
   "source": [
    "Model_3_evaluation = Model_3.evaluate(x_test, y_test)\n",
    "print('Test Loss is : {} and the Test Accuracy is: {}'.format(Model_3_evaluation[0], Model_3_evaluation[1]))"
   ]
  },
  {
   "cell_type": "code",
   "execution_count": 38,
   "metadata": {},
   "outputs": [
    {
     "data": {
      "image/png": "[encoded data removed]",
      "text/plain": [
       "<Figure size 432x288 with 1 Axes>"
      ]
     },
     "metadata": {
      "needs_background": "light"
     },
     "output_type": "display_data"
    }
   ],
   "source": [
    "# Plotting Train & Validation Loss\n",
    "fig,ax = plt.subplots(1,1)\n",
    "ax.set_xlabel('epoch') \n",
    "ax.set_ylabel('Categorical Crossentropy Loss')\n",
    "\n",
    "# list of epoch numbers\n",
    "x = list(range(1, 13))\n",
    "vy = Model_3_result.history['val_loss']\n",
    "ty = Model_3_result.history['loss']\n",
    "\n",
    "# Calling Function\n",
    "plt_dynamic(x, vy, ty, ax)"
   ]
  },
  {
   "cell_type": "markdown",
   "metadata": {},
   "source": [
    "## Model 3. Conclusions: "
   ]
  },
  {
   "cell_type": "markdown",
   "metadata": {},
   "source": [
    "- The Model is overfitting as the Train & Test accuracy has great difference. Lets reduce number of epochs to 10.\n",
    "- Lets try to improve our model by adding the Hidden Layers, add Drop outs, Batch Normalizations, padding and weight initializations"
   ]
  },
  {
   "cell_type": "markdown",
   "metadata": {},
   "source": [
    "# Model 4: with Increased Dropouts, More Layers, More Filters, Padding, Using He Kernel Initializer and using Batch Normalization (7 Layer Architecture)"
   ]
  },
  {
   "cell_type": "markdown",
   "metadata": {},
   "source": [
    "1. Convolutional input layer, 16 feature maps with a size of 3×3, a rectifier activation function as relu, initialization as He, padding same\n",
    "2. Convolutional input layer, 16 feature maps with a size of 3×3, a rectifier activation function as relu, initialization as He, padding same\n",
    "3. Max Pool layer with size 2×2\n",
    "4. Batch Normalization\n",
    "5. Dropout set to 25%\n",
    "6. Convolutional input layer, 32 feature maps with a size of 3×3, a rectifier activation function as relu, initialization as He, padding same\n",
    "7. Convolutional input layer, 32 feature maps with a size of 3×3, a rectifier activation function as relu\n",
    "8. Max Pool layer with size 2×2\n",
    "9. Batch Normalization\n",
    "10. Dropout set to 30%\n",
    "11. Convolutional input layer, 64 feature maps with a size of 3×3, a rectifier activation function as relu, initialization as He, padding same\n",
    "12. Convolutional input layer, 64 feature maps with a size of 3×3, a rectifier activation function as relu, initialization as He, padding same\n",
    "13. Max Pool layer with size 2×2\n",
    "14. Batch Normalization\n",
    "15. Dropout set to 30%\n",
    "16. Convolutional input layer, 128 feature maps with a size of 3×3, a rectifier activation function as relu, initialization as He, padding same\n",
    "17. Max Pool layer with size 2×2\n",
    "18. Batch Normalization\n",
    "19. Dropout set to 50%\n",
    "20. Flatten layer\n",
    "21. Fully connected layer with 256 units and a rectifier activation function as relu\n",
    "    Dropout set to 50%\n",
    "22. Fully connected layer with 128 units and a rectifier activation function as relu\n",
    "23. Dropout set to 40%\n",
    "24. Fully connected output layer with 10 units and a softmax activation function\n",
    "25. Compiling the Model with adam optimizer and metrices as accuracy"
   ]
  },
  {
   "cell_type": "code",
   "execution_count": 42,
   "metadata": {},
   "outputs": [],
   "source": [
    "# Initialising the Model_4\n",
    "Model_4 = Sequential()\n",
    "\n",
    "# Convolution\n",
    "Model_4.add(Conv2D(filters = 16, kernel_size = (3,3), input_shape = input_shape, activation = 'relu', padding = 'same',\n",
    "                   kernel_initializer = 'he_uniform'))\n",
    "# Convolution\n",
    "Model_4.add(Conv2D(filters = 16, kernel_size = (3,3), activation = 'relu', kernel_initializer = 'he_uniform', \n",
    "                   padding='same'))\n",
    "# Max Pooling\n",
    "Model_4.add(MaxPool2D(pool_size = (2,2)))\n",
    "# Batch Normalization\n",
    "Model_4.add(BatchNormalization())\n",
    "# Adding Dropouts\n",
    "Model_4.add(Dropout(0.25))\n",
    "\n",
    "\n",
    "# Convolution\n",
    "Model_4.add(Conv2D(filters = 32, kernel_size = (3,3), activation = 'relu', kernel_initializer='he_uniform', \n",
    "                   padding='same'))\n",
    "# Convolution\n",
    "Model_4.add(Conv2D(filters = 32, kernel_size = (3,3), activation = 'relu', kernel_initializer='he_uniform', \n",
    "                   padding='same'))\n",
    "# Max Pooling\n",
    "Model_4.add(MaxPool2D(pool_size = (2,2)))\n",
    "# Batch Normalization\n",
    "Model_4.add(BatchNormalization())\n",
    "# Adding Dropouts\n",
    "Model_4.add(Dropout(0.30))\n",
    "\n",
    "\n",
    "# Convolution\n",
    "Model_4.add(Conv2D(filters = 64, kernel_size = (3,3), activation = 'relu', kernel_initializer='he_uniform', \n",
    "                   padding='same'))\n",
    "# Convolution\n",
    "Model_4.add(Conv2D(filters = 64, kernel_size = (3,3), activation = 'relu', kernel_initializer='he_uniform', \n",
    "                   padding='same'))\n",
    "# Max Pooling\n",
    "Model_4.add(MaxPool2D(pool_size = (2,2)))\n",
    "# Batch Normalization\n",
    "Model_4.add(BatchNormalization())\n",
    "# Adding Dropouts\n",
    "Model_4.add(Dropout(0.40))\n",
    "\n",
    "\n",
    "# Convolution\n",
    "Model_4.add(Conv2D(filters = 128, kernel_size = (3,3), activation = 'relu', kernel_initializer='he_uniform', \n",
    "                   padding='same'))\n",
    "# Max Pooling\n",
    "Model_4.add(MaxPool2D(pool_size = (2,2)))\n",
    "# Batch Normalization\n",
    "Model_4.add(BatchNormalization())\n",
    "# Adding Dropouts\n",
    "Model_4.add(Dropout(0.50))\n",
    "\n",
    "# Flattening\n",
    "Model_4.add(Flatten())\n",
    "\n",
    "# Full Connection\n",
    "Model_4.add(Dense(256, activation = 'relu', kernel_initializer='he_uniform'))\n",
    "# Adding Dropouts\n",
    "Model_4.add(Dropout(0.50))\n",
    "# Full Connection\n",
    "Model_4.add(Dense(128, activation = \"relu\"))\n",
    "\n",
    "\n",
    "# Output Layer\n",
    "Model_4.add(Dense(num_classes, activation = 'softmax'))\n",
    "\n",
    "# Compiling Model_4\n",
    "Model_4.compile(loss = 'categorical_crossentropy', optimizer = 'adam', metrics = ['accuracy'])"
   ]
  },
  {
   "cell_type": "code",
   "execution_count": 43,
   "metadata": {},
   "outputs": [
    {
     "name": "stdout",
     "output_type": "stream",
     "text": [
      "Model: \"sequential_8\"\n",
      "_________________________________________________________________\n",
      "Layer (type)                 Output Shape              Param #   \n",
      "=================================================================\n",
      "conv2d_36 (Conv2D)           (None, 28, 28, 16)        160       \n",
      "_________________________________________________________________\n",
      "conv2d_37 (Conv2D)           (None, 28, 28, 16)        2320      \n",
      "_________________________________________________________________\n",
      "max_pooling2d_19 (MaxPooling (None, 14, 14, 16)        0         \n",
      "_________________________________________________________________\n",
      "batch_normalization_16 (Batc (None, 14, 14, 16)        64        \n",
      "_________________________________________________________________\n",
      "dropout_30 (Dropout)         (None, 14, 14, 16)        0         \n",
      "_________________________________________________________________\n",
      "conv2d_38 (Conv2D)           (None, 14, 14, 32)        4640      \n",
      "_________________________________________________________________\n",
      "conv2d_39 (Conv2D)           (None, 14, 14, 32)        9248      \n",
      "_________________________________________________________________\n",
      "max_pooling2d_20 (MaxPooling (None, 7, 7, 32)          0         \n",
      "_________________________________________________________________\n",
      "batch_normalization_17 (Batc (None, 7, 7, 32)          128       \n",
      "_________________________________________________________________\n",
      "dropout_31 (Dropout)         (None, 7, 7, 32)          0         \n",
      "_________________________________________________________________\n",
      "conv2d_40 (Conv2D)           (None, 7, 7, 64)          18496     \n",
      "_________________________________________________________________\n",
      "conv2d_41 (Conv2D)           (None, 7, 7, 64)          36928     \n",
      "_________________________________________________________________\n",
      "max_pooling2d_21 (MaxPooling (None, 3, 3, 64)          0         \n",
      "_________________________________________________________________\n",
      "batch_normalization_18 (Batc (None, 3, 3, 64)          256       \n",
      "_________________________________________________________________\n",
      "dropout_32 (Dropout)         (None, 3, 3, 64)          0         \n",
      "_________________________________________________________________\n",
      "conv2d_42 (Conv2D)           (None, 3, 3, 128)         73856     \n",
      "_________________________________________________________________\n",
      "max_pooling2d_22 (MaxPooling (None, 1, 1, 128)         0         \n",
      "_________________________________________________________________\n",
      "batch_normalization_19 (Batc (None, 1, 1, 128)         512       \n",
      "_________________________________________________________________\n",
      "dropout_33 (Dropout)         (None, 1, 1, 128)         0         \n",
      "_________________________________________________________________\n",
      "flatten_7 (Flatten)          (None, 128)               0         \n",
      "_________________________________________________________________\n",
      "dense_14 (Dense)             (None, 256)               33024     \n",
      "_________________________________________________________________\n",
      "dropout_34 (Dropout)         (None, 256)               0         \n",
      "_________________________________________________________________\n",
      "dense_15 (Dense)             (None, 128)               32896     \n",
      "_________________________________________________________________\n",
      "dense_16 (Dense)             (None, 10)                1290      \n",
      "=================================================================\n",
      "Total params: 213,818\n",
      "Trainable params: 213,338\n",
      "Non-trainable params: 480\n",
      "_________________________________________________________________\n"
     ]
    }
   ],
   "source": [
    "Model_4.summary()"
   ]
  },
  {
   "cell_type": "code",
   "execution_count": 44,
   "metadata": {},
   "outputs": [
    {
     "name": "stdout",
     "output_type": "stream",
     "text": [
      "Epoch 1/10\n",
      "235/235 [==============================] - 103s 439ms/step - loss: 1.0970 - accuracy: 0.6382 - val_loss: 4.1881 - val_accuracy: 0.1010\n",
      "Epoch 2/10\n",
      "235/235 [==============================] - 102s 436ms/step - loss: 0.2657 - accuracy: 0.9190 - val_loss: 2.1321 - val_accuracy: 0.3537\n",
      "Epoch 3/10\n",
      "235/235 [==============================] - 107s 457ms/step - loss: 0.1733 - accuracy: 0.9485 - val_loss: 0.3010 - val_accuracy: 0.9113\n",
      "Epoch 4/10\n",
      "235/235 [==============================] - 104s 441ms/step - loss: 0.1382 - accuracy: 0.9592 - val_loss: 0.1915 - val_accuracy: 0.9404\n",
      "Epoch 5/10\n",
      "235/235 [==============================] - 100s 427ms/step - loss: 0.1166 - accuracy: 0.9657 - val_loss: 0.0732 - val_accuracy: 0.9780\n",
      "Epoch 6/10\n",
      "235/235 [==============================] - 100s 426ms/step - loss: 0.1007 - accuracy: 0.9710 - val_loss: 0.0513 - val_accuracy: 0.9836\n",
      "Epoch 7/10\n",
      "235/235 [==============================] - 101s 428ms/step - loss: 0.0886 - accuracy: 0.9739 - val_loss: 0.0494 - val_accuracy: 0.9844\n",
      "Epoch 8/10\n",
      "235/235 [==============================] - 104s 443ms/step - loss: 0.0810 - accuracy: 0.9764 - val_loss: 0.0630 - val_accuracy: 0.9794\n",
      "Epoch 9/10\n",
      "235/235 [==============================] - 104s 441ms/step - loss: 0.0746 - accuracy: 0.9781 - val_loss: 0.0676 - val_accuracy: 0.9796\n",
      "Epoch 10/10\n",
      "235/235 [==============================] - 105s 445ms/step - loss: 0.0697 - accuracy: 0.9797 - val_loss: 0.0514 - val_accuracy: 0.9844\n"
     ]
    }
   ],
   "source": [
    "Model_4_result = Model_4.fit(x_train, y_train, epochs = 10, validation_data = (x_test, y_test), batch_size = 256,\n",
    "                             workers = -1)"
   ]
  },
  {
   "cell_type": "code",
   "execution_count": 46,
   "metadata": {},
   "outputs": [
    {
     "name": "stdout",
     "output_type": "stream",
     "text": [
      "313/313 [==============================] - 4s 12ms/step - loss: 0.0514 - accuracy: 0.9844\n",
      "Test Loss is : 0.051353905349969864 and the Test Accuracy is: 0.9843999743461609\n"
     ]
    }
   ],
   "source": [
    "Model_4_evaluation = Model_4.evaluate(x_test, y_test)\n",
    "print('Test Loss is : {} and the Test Accuracy is: {}'.format(Model_4_evaluation[0], Model_4_evaluation[1]))"
   ]
  },
  {
   "cell_type": "code",
   "execution_count": null,
   "metadata": {},
   "outputs": [],
   "source": [
    "# Plotting Train & Validation Loss\n",
    "fig,ax = plt.subplots(1,1)\n",
    "ax.set_xlabel('epoch') \n",
    "ax.set_ylabel('Categorical Crossentropy Loss')\n",
    "\n",
    "# list of epoch numbers\n",
    "x = list(range(1, 11))\n",
    "vy = Model_4_result.history['val_loss']\n",
    "ty = Model_4_result.history['loss']\n",
    "\n",
    "# Calling Function\n",
    "plt_dynamic(x, vy, ty, ax)"
   ]
  },
  {
   "cell_type": "code",
   "execution_count": 47,
   "metadata": {},
   "outputs": [
    {
     "name": "stdout",
     "output_type": "stream",
     "text": [
      "+-------+---------------------------+----------------+---------------+------------+-----------+\n",
      "| Sr.No |           MODEL           | train_accuracy | test_accuracy | train_loss | test_loss |\n",
      "+-------+---------------------------+----------------+---------------+------------+-----------+\n",
      "|   1   | 2-LAYER WITH KERNEL SIZE  |     0.1124     |     0.1134    |   2.3022   |   2.3021  |\n",
      "|   2   | 3-LAYER WITH KERNEL SIZE  |     0.9736     |     0.9859    |   0.0877   |   0.0425  |\n",
      "|   3   | 5-LAYER WITH KERNEL SIZE  |     0.9799     |     0.3836    |   0.0717   |   6.1720  |\n",
      "|   4   | 7-LAYER WITH KERNEL SIZE  |     0.9797     |     0.9844    |   0.0697   |   0.0514  |\n",
      "+-------+---------------------------+----------------+---------------+------------+-----------+\n"
     ]
    }
   ],
   "source": [
    "from prettytable import PrettyTable\n",
    "\n",
    "pretty = PrettyTable()\n",
    "\n",
    "pretty.field_names = ['Sr.No','MODEL','train_accuracy','test_accuracy','train_loss','test_loss']\n",
    "\n",
    "pretty.add_row(['1','2-LAYER WITH KERNEL SIZE ','0.1124','0.1134','2.3022','2.3021'])\n",
    "pretty.add_row(['2','3-LAYER WITH KERNEL SIZE ','0.9736','0.9859','0.0877','0.0425'])\n",
    "pretty.add_row(['3','5-LAYER WITH KERNEL SIZE ','0.9799','0.3836','0.0717','6.1720'])\n",
    "pretty.add_row(['4','7-LAYER WITH KERNEL SIZE ','0.9797','0.9844','0.0697','0.0514'])\n",
    "\n",
    "\n",
    "print(pretty)"
   ]
  },
  {
   "cell_type": "markdown",
   "metadata": {},
   "source": [
    "# End Results"
   ]
  },
  {
   "cell_type": "markdown",
   "metadata": {},
   "source": [
    "- It can be observed from the above table that the accuracy we obatined is really good. We Get maximum test accuracy of about 98.44 by using increased Dropouts, more Layers, more Filters, Padding, using He Kernel Initializer and using Batch Normalization.\n",
    "- So we are able to classify digits accurately for most of the cases."
   ]
  },
  {
   "cell_type": "markdown",
   "metadata": {},
   "source": [
    "# End of File"
   ]
  }
 ],
 "metadata": {
  "kernelspec": {
   "display_name": "Python 3",
   "language": "python",
   "name": "python3"
  },
  "language_info": {
   "codemirror_mode": {
    "name": "ipython",
    "version": 3
   },
   "file_extension": ".py",
   "mimetype": "text/x-python",
   "name": "python",
   "nbconvert_exporter": "python",
   "pygments_lexer": "ipython3",
   "version": "3.7.3"
  }
 },
 "nbformat": 4,
 "nbformat_minor": 4
}
